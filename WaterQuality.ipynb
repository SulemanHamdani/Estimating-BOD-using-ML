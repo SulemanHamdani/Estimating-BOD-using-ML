{
 "cells": [
  {
   "cell_type": "code",
   "execution_count": 161,
   "id": "0fb93119",
   "metadata": {},
   "outputs": [],
   "source": [
    "import numpy as np\n",
    "from sklearn.linear_model import LinearRegression, LogisticRegression\n",
    "import pandas as pd\n",
    "from sklearn.model_selection import train_test_split\n",
    "import matplotlib.pyplot as plt\n",
    "%matplotlib inline\n",
    "from sklearn.metrics import mean_squared_error, mean_absolute_error\n",
    "from tensorflow.keras.models import Sequential\n",
    "from tensorflow.keras.layers import Dense\n",
    "from sklearn.preprocessing import PolynomialFeatures"
   ]
  },
  {
   "cell_type": "code",
   "execution_count": 162,
   "id": "f3a1a6aa",
   "metadata": {},
   "outputs": [],
   "source": [
    "data = pd.read_csv(\"waterquality.csv\", encoding = \"ISO-8859-1\")\n",
    "df = pd.DataFrame(data)"
   ]
  },
  {
   "cell_type": "code",
   "execution_count": 163,
   "id": "35a4eed5",
   "metadata": {},
   "outputs": [],
   "source": [
    "def clean_dataset(df):\n",
    "    assert isinstance(df, pd.DataFrame), \"df needs to be a pd.DataFrame\"\n",
    "    df.dropna(inplace=True)\n",
    "    indices_to_keep = ~df.isin([np.nan, np.inf, -np.inf]).any(1)\n",
    "    return df[indices_to_keep].astype(np.float64)"
   ]
  },
  {
   "cell_type": "code",
   "execution_count": null,
   "id": "3a49a71a",
   "metadata": {},
   "outputs": [],
   "source": []
  },
  {
   "cell_type": "code",
   "execution_count": 164,
   "id": "c5ebbbf6",
   "metadata": {},
   "outputs": [
    {
     "name": "stderr",
     "output_type": "stream",
     "text": [
      "C:\\Users\\DELL\\AppData\\Local\\Temp/ipykernel_4300/1442344577.py:3: SettingWithCopyWarning: \n",
      "A value is trying to be set on a copy of a slice from a DataFrame\n",
      "\n",
      "See the caveats in the documentation: https://pandas.pydata.org/pandas-docs/stable/user_guide/indexing.html#returning-a-view-versus-a-copy\n",
      "  df.dropna(inplace=True)\n"
     ]
    },
    {
     "data": {
      "text/html": [
       "<div>\n",
       "<style scoped>\n",
       "    .dataframe tbody tr th:only-of-type {\n",
       "        vertical-align: middle;\n",
       "    }\n",
       "\n",
       "    .dataframe tbody tr th {\n",
       "        vertical-align: top;\n",
       "    }\n",
       "\n",
       "    .dataframe thead th {\n",
       "        text-align: right;\n",
       "    }\n",
       "</style>\n",
       "<table border=\"1\" class=\"dataframe\">\n",
       "  <thead>\n",
       "    <tr style=\"text-align: right;\">\n",
       "      <th></th>\n",
       "      <th>TEMP</th>\n",
       "      <th>DO</th>\n",
       "      <th>pH</th>\n",
       "      <th>CONDUCTIVITY</th>\n",
       "      <th>BOD</th>\n",
       "    </tr>\n",
       "  </thead>\n",
       "  <tbody>\n",
       "    <tr>\n",
       "      <th>0</th>\n",
       "      <td>29.2</td>\n",
       "      <td>6.4</td>\n",
       "      <td>8.1</td>\n",
       "      <td>735.0</td>\n",
       "      <td>3.4</td>\n",
       "    </tr>\n",
       "    <tr>\n",
       "      <th>1</th>\n",
       "      <td>24.5</td>\n",
       "      <td>6.0</td>\n",
       "      <td>8.0</td>\n",
       "      <td>270.0</td>\n",
       "      <td>3.1</td>\n",
       "    </tr>\n",
       "    <tr>\n",
       "      <th>2</th>\n",
       "      <td>25.8</td>\n",
       "      <td>5.5</td>\n",
       "      <td>7.8</td>\n",
       "      <td>355.0</td>\n",
       "      <td>4.2</td>\n",
       "    </tr>\n",
       "    <tr>\n",
       "      <th>3</th>\n",
       "      <td>24.8</td>\n",
       "      <td>5.5</td>\n",
       "      <td>7.8</td>\n",
       "      <td>371.0</td>\n",
       "      <td>5.6</td>\n",
       "    </tr>\n",
       "    <tr>\n",
       "      <th>4</th>\n",
       "      <td>25.7</td>\n",
       "      <td>5.7</td>\n",
       "      <td>7.9</td>\n",
       "      <td>294.0</td>\n",
       "      <td>3.2</td>\n",
       "    </tr>\n",
       "    <tr>\n",
       "      <th>...</th>\n",
       "      <td>...</td>\n",
       "      <td>...</td>\n",
       "      <td>...</td>\n",
       "      <td>...</td>\n",
       "      <td>...</td>\n",
       "    </tr>\n",
       "    <tr>\n",
       "      <th>529</th>\n",
       "      <td>23.2</td>\n",
       "      <td>4.4</td>\n",
       "      <td>8.1</td>\n",
       "      <td>538.0</td>\n",
       "      <td>1.2</td>\n",
       "    </tr>\n",
       "    <tr>\n",
       "      <th>530</th>\n",
       "      <td>22.9</td>\n",
       "      <td>5.6</td>\n",
       "      <td>8.4</td>\n",
       "      <td>591.0</td>\n",
       "      <td>1.1</td>\n",
       "    </tr>\n",
       "    <tr>\n",
       "      <th>531</th>\n",
       "      <td>22.9</td>\n",
       "      <td>5.8</td>\n",
       "      <td>8.5</td>\n",
       "      <td>588.0</td>\n",
       "      <td>1.2</td>\n",
       "    </tr>\n",
       "    <tr>\n",
       "      <th>532</th>\n",
       "      <td>28.7</td>\n",
       "      <td>4.1</td>\n",
       "      <td>7.9</td>\n",
       "      <td>1133.0</td>\n",
       "      <td>2.3</td>\n",
       "    </tr>\n",
       "    <tr>\n",
       "      <th>533</th>\n",
       "      <td>24.3</td>\n",
       "      <td>3.5</td>\n",
       "      <td>8.9</td>\n",
       "      <td>2004.0</td>\n",
       "      <td>6.5</td>\n",
       "    </tr>\n",
       "  </tbody>\n",
       "</table>\n",
       "<p>496 rows × 5 columns</p>\n",
       "</div>"
      ],
      "text/plain": [
       "     TEMP   DO   pH  CONDUCTIVITY  BOD\n",
       "0    29.2  6.4  8.1         735.0  3.4\n",
       "1    24.5  6.0  8.0         270.0  3.1\n",
       "2    25.8  5.5  7.8         355.0  4.2\n",
       "3    24.8  5.5  7.8         371.0  5.6\n",
       "4    25.7  5.7  7.9         294.0  3.2\n",
       "..    ...  ...  ...           ...  ...\n",
       "529  23.2  4.4  8.1         538.0  1.2\n",
       "530  22.9  5.6  8.4         591.0  1.1\n",
       "531  22.9  5.8  8.5         588.0  1.2\n",
       "532  28.7  4.1  7.9        1133.0  2.3\n",
       "533  24.3  3.5  8.9        2004.0  6.5\n",
       "\n",
       "[496 rows x 5 columns]"
      ]
     },
     "execution_count": 164,
     "metadata": {},
     "output_type": "execute_result"
    }
   ],
   "source": [
    "for_cleaning = df[['TEMP', 'DO', 'pH', 'CONDUCTIVITY', 'BOD']]\n",
    "df = clean_dataset(for_cleaning)\n",
    "X = df[['TEMP', 'DO', 'pH', 'CONDUCTIVITY']]\n",
    "df"
   ]
  },
  {
   "cell_type": "code",
   "execution_count": 165,
   "id": "64f9c128",
   "metadata": {},
   "outputs": [
    {
     "name": "stdout",
     "output_type": "stream",
     "text": [
      "   TEMP   DO   pH  CONDUCTIVITY\n",
      "0  29.2  6.4  8.1         735.0\n",
      "1  24.5  6.0  8.0         270.0\n",
      "2  25.8  5.5  7.8         355.0\n",
      "3  24.8  5.5  7.8         371.0\n",
      "4  25.7  5.7  7.9         294.0\n",
      "False\n"
     ]
    }
   ],
   "source": [
    "print(X.head())\n",
    "print(np.any(np.isnan(X)))"
   ]
  },
  {
   "cell_type": "code",
   "execution_count": 166,
   "id": "b7c7651a",
   "metadata": {},
   "outputs": [],
   "source": [
    "y = df[['BOD']]"
   ]
  },
  {
   "cell_type": "code",
   "execution_count": 167,
   "id": "a5389e50",
   "metadata": {},
   "outputs": [
    {
     "name": "stdout",
     "output_type": "stream",
     "text": [
      "496\n",
      "   BOD\n",
      "0  3.4\n",
      "1  3.1\n",
      "2  4.2\n",
      "3  5.6\n",
      "4  3.2\n"
     ]
    }
   ],
   "source": [
    "print(y.shape[0])\n",
    "print(y.head())"
   ]
  },
  {
   "cell_type": "code",
   "execution_count": 168,
   "id": "f23133ee",
   "metadata": {},
   "outputs": [
    {
     "data": {
      "text/plain": [
       "((347, 4), (149, 4), (347, 1))"
      ]
     },
     "execution_count": 168,
     "metadata": {},
     "output_type": "execute_result"
    }
   ],
   "source": [
    "X_train, X_test, y_train, y_test = train_test_split(\n",
    "    X,\n",
    "    y,\n",
    "    test_size=0.3,\n",
    "    random_state=0)\n",
    "\n",
    "X_train.shape, X_test.shape, y_train.shape"
   ]
  },
  {
   "cell_type": "code",
   "execution_count": 169,
   "id": "2fbeb9a9",
   "metadata": {},
   "outputs": [],
   "source": [
    "#normalizing data\n",
    "# from sklearn.preprocessing import MinMaxScaler, PolynomialFeatures \n",
    "# # define min max scaler\n",
    "# x = X_train.values #returns a numpy array\n",
    "# min_max_scaler = preprocessing.MinMaxScaler()\n",
    "# X_train_scaled = min_max_scaler.fit_transform(x)\n",
    "# df1 = pd.DataFrame(X_train_scaled)\n",
    "# df1.columns = ['TEMP','DO', 'pH', 'CONDUCTIVITY']\n",
    "# df1 = df1.replace((np.inf, -np.inf, np.nan), 0).reset_index(drop=True)"
   ]
  },
  {
   "cell_type": "code",
   "execution_count": 170,
   "id": "922f66f9",
   "metadata": {},
   "outputs": [],
   "source": [
    "# x = X_test.values #returns a numpy array\n",
    "# min_max_scaler = preprocessing.MinMaxScaler()\n",
    "# X_test_scaled = min_max_scaler.fit_transform(x)\n",
    "# df2 = pd.DataFrame(X_test_scaled)\n",
    "# df2.columns = ['TEMP','DO', 'pH', 'CONDUCTIVITY']\n",
    "# df2 = df2.replace((np.inf, -np.inf, np.nan), 0).reset_index(drop=True)\n",
    "# df2.shape"
   ]
  },
  {
   "cell_type": "code",
   "execution_count": 171,
   "id": "a2b80a32",
   "metadata": {},
   "outputs": [
    {
     "data": {
      "image/png": "[encoded data removed]",
      "text/plain": [
       "<Figure size 864x720 with 2 Axes>"
      ]
     },
     "metadata": {
      "needs_background": "light"
     },
     "output_type": "display_data"
    }
   ],
   "source": [
    "import seaborn as sns\n",
    "#Using Pearson Correlation\n",
    "plt.figure(figsize=(12,10))\n",
    "df2 = df[['TEMP', 'DO', 'pH', 'CONDUCTIVITY']]\n",
    "df2 = df2.replace((np.inf, -np.inf, np.nan), 0).reset_index(drop=True)\n",
    "cor = df2.corr()\n",
    "sns.heatmap(cor, annot=True, cmap=plt.cm.CMRmap_r)\n",
    "plt.show()"
   ]
  },
  {
   "cell_type": "code",
   "execution_count": 172,
   "id": "5c62d97d",
   "metadata": {},
   "outputs": [
    {
     "data": {
      "text/html": [
       "<div>\n",
       "<style scoped>\n",
       "    .dataframe tbody tr th:only-of-type {\n",
       "        vertical-align: middle;\n",
       "    }\n",
       "\n",
       "    .dataframe tbody tr th {\n",
       "        vertical-align: top;\n",
       "    }\n",
       "\n",
       "    .dataframe thead th {\n",
       "        text-align: right;\n",
       "    }\n",
       "</style>\n",
       "<table border=\"1\" class=\"dataframe\">\n",
       "  <thead>\n",
       "    <tr style=\"text-align: right;\">\n",
       "      <th></th>\n",
       "      <th>TEMP</th>\n",
       "      <th>DO</th>\n",
       "      <th>pH</th>\n",
       "      <th>CONDUCTIVITY</th>\n",
       "    </tr>\n",
       "  </thead>\n",
       "  <tbody>\n",
       "    <tr>\n",
       "      <th>5</th>\n",
       "      <td>25.0</td>\n",
       "      <td>4.5</td>\n",
       "      <td>7.5</td>\n",
       "      <td>513.0</td>\n",
       "    </tr>\n",
       "    <tr>\n",
       "      <th>157</th>\n",
       "      <td>24.4</td>\n",
       "      <td>8.1</td>\n",
       "      <td>7.7</td>\n",
       "      <td>108.0</td>\n",
       "    </tr>\n",
       "    <tr>\n",
       "      <th>407</th>\n",
       "      <td>21.4</td>\n",
       "      <td>7.3</td>\n",
       "      <td>8.0</td>\n",
       "      <td>386.0</td>\n",
       "    </tr>\n",
       "    <tr>\n",
       "      <th>151</th>\n",
       "      <td>26.9</td>\n",
       "      <td>6.7</td>\n",
       "      <td>7.7</td>\n",
       "      <td>78.0</td>\n",
       "    </tr>\n",
       "    <tr>\n",
       "      <th>527</th>\n",
       "      <td>21.3</td>\n",
       "      <td>5.0</td>\n",
       "      <td>8.6</td>\n",
       "      <td>604.0</td>\n",
       "    </tr>\n",
       "    <tr>\n",
       "      <th>...</th>\n",
       "      <td>...</td>\n",
       "      <td>...</td>\n",
       "      <td>...</td>\n",
       "      <td>...</td>\n",
       "    </tr>\n",
       "    <tr>\n",
       "      <th>347</th>\n",
       "      <td>24.6</td>\n",
       "      <td>6.4</td>\n",
       "      <td>7.3</td>\n",
       "      <td>467.0</td>\n",
       "    </tr>\n",
       "    <tr>\n",
       "      <th>214</th>\n",
       "      <td>24.0</td>\n",
       "      <td>7.7</td>\n",
       "      <td>6.6</td>\n",
       "      <td>177.0</td>\n",
       "    </tr>\n",
       "    <tr>\n",
       "      <th>127</th>\n",
       "      <td>27.6</td>\n",
       "      <td>7.0</td>\n",
       "      <td>7.8</td>\n",
       "      <td>669.0</td>\n",
       "    </tr>\n",
       "    <tr>\n",
       "      <th>57</th>\n",
       "      <td>24.4</td>\n",
       "      <td>8.5</td>\n",
       "      <td>8.3</td>\n",
       "      <td>404.0</td>\n",
       "    </tr>\n",
       "    <tr>\n",
       "      <th>191</th>\n",
       "      <td>26.3</td>\n",
       "      <td>6.7</td>\n",
       "      <td>7.5</td>\n",
       "      <td>608.0</td>\n",
       "    </tr>\n",
       "  </tbody>\n",
       "</table>\n",
       "<p>347 rows × 4 columns</p>\n",
       "</div>"
      ],
      "text/plain": [
       "     TEMP   DO   pH  CONDUCTIVITY\n",
       "5    25.0  4.5  7.5         513.0\n",
       "157  24.4  8.1  7.7         108.0\n",
       "407  21.4  7.3  8.0         386.0\n",
       "151  26.9  6.7  7.7          78.0\n",
       "527  21.3  5.0  8.6         604.0\n",
       "..    ...  ...  ...           ...\n",
       "347  24.6  6.4  7.3         467.0\n",
       "214  24.0  7.7  6.6         177.0\n",
       "127  27.6  7.0  7.8         669.0\n",
       "57   24.4  8.5  8.3         404.0\n",
       "191  26.3  6.7  7.5         608.0\n",
       "\n",
       "[347 rows x 4 columns]"
      ]
     },
     "execution_count": 172,
     "metadata": {},
     "output_type": "execute_result"
    }
   ],
   "source": [
    "# X_train_scaled\n",
    "y_train\n",
    "X_train"
   ]
  },
  {
   "cell_type": "code",
   "execution_count": 65,
   "id": "d69f48fa",
   "metadata": {},
   "outputs": [],
   "source": [
    "X_train['TEMP'] = X_train['TEMP'].replace((np.inf, -np.inf, np.nan), X_train['TEMP'].mean()).reset_index(drop=True)\n",
    "X_train['DO'] = X_train['DO'].replace((np.inf, -np.inf, np.nan), X_train['DO'].mean()).reset_index(drop=True)\n",
    "X_train['pH'] = X_train['pH'].replace((np.inf, -np.inf, np.nan), X_train['pH'].mean()).reset_index(drop=True)\n",
    "X_train['CONDUCTIVITY'] = X_train['CONDUCTIVITY'].replace((np.inf, -np.inf, np.nan), X_train['CONDUCTIVITY'].mean()).reset_index(drop=True)\n"
   ]
  },
  {
   "cell_type": "code",
   "execution_count": 42,
   "id": "a50c0d3d",
   "metadata": {},
   "outputs": [],
   "source": [
    "y_train = y_train.replace((np.inf, -np.inf, np.nan), y_train['BOD'].mean()).reset_index(drop=True)"
   ]
  },
  {
   "cell_type": "code",
   "execution_count": 43,
   "id": "5b5fa43e",
   "metadata": {},
   "outputs": [],
   "source": [
    "X_test['TEMP'] = X_test['TEMP'].replace((np.inf, -np.inf, np.nan), X_test['TEMP'].mean()).reset_index(drop=True)\n",
    "X_test['DO'] = X_test['DO'].replace((np.inf, -np.inf, np.nan), X_test['DO'].mean()).reset_index(drop=True)\n",
    "X_test['pH'] = X_test['pH'].replace((np.inf, -np.inf, np.nan), X_test['pH'].mean()).reset_index(drop=True)\n",
    "X_test['CONDUCTIVITY'] = X_test['CONDUCTIVITY'].replace((np.inf, -np.inf, np.nan), X_test['CONDUCTIVITY'].mean()).reset_index(drop=True)\n"
   ]
  },
  {
   "cell_type": "code",
   "execution_count": 44,
   "id": "1e3c2494",
   "metadata": {},
   "outputs": [],
   "source": [
    "y_test = y_test.replace((np.inf, -np.inf, np.nan), y_test['BOD'].mean()).reset_index(drop=True)"
   ]
  },
  {
   "cell_type": "code",
   "execution_count": 173,
   "id": "45caa3c3",
   "metadata": {},
   "outputs": [
    {
     "data": {
      "text/plain": [
       "LinearRegression()"
      ]
     },
     "execution_count": 173,
     "metadata": {},
     "output_type": "execute_result"
    }
   ],
   "source": [
    "# creating a regression model\n",
    "\n",
    "model = LinearRegression()\n",
    "# fitting the model\n",
    "model.fit(X_train,y_train)"
   ]
  },
  {
   "cell_type": "code",
   "execution_count": 174,
   "id": "c58178ab",
   "metadata": {},
   "outputs": [],
   "source": [
    "predictions = model.predict(X_test)"
   ]
  },
  {
   "cell_type": "code",
   "execution_count": 175,
   "id": "7dcf2a49",
   "metadata": {},
   "outputs": [
    {
     "name": "stdout",
     "output_type": "stream",
     "text": [
      "mean_squared_error :  37.2491226991195\n",
      "mean_absolute_error :  3.8592030270116746\n"
     ]
    }
   ],
   "source": [
    "print(\n",
    "  'mean_squared_error : ', mean_squared_error(y_test, predictions))\n",
    "print(\n",
    "  'mean_absolute_error : ', mean_absolute_error(y_test, predictions))"
   ]
  },
  {
   "cell_type": "code",
   "execution_count": 176,
   "id": "6197cb42",
   "metadata": {
    "scrolled": true
   },
   "outputs": [
    {
     "name": "stdout",
     "output_type": "stream",
     "text": [
      "Predicted: [0.09295541]\n",
      "BOD    1.8\n",
      "Name: 117, dtype: float64\n"
     ]
    }
   ],
   "source": [
    "print(f\"Predicted: {predictions[100]}\")\n",
    "#df3 = pd.DataFrame(predictions)\n",
    "#df3.columns = [\"BOD\"]\n",
    "print(y_test.iloc[100])"
   ]
  },
  {
   "cell_type": "code",
   "execution_count": 134,
   "id": "be2f048b",
   "metadata": {
    "scrolled": true
   },
   "outputs": [
    {
     "data": {
      "image/png": "[encoded data removed]",
      "text/plain": [
       "<Figure size 432x288 with 1 Axes>"
      ]
     },
     "metadata": {
      "needs_background": "light"
     },
     "output_type": "display_data"
    }
   ],
   "source": [
    "fig, ax = plt.subplots()\n",
    "ax.scatter(y_test, predictions)\n",
    "ax.plot([y_test.min(), y_test.max()], [y_test.min(), y_test.max()], 'k--', lw=4)\n",
    "ax.set_xlabel('Measured')\n",
    "ax.set_ylabel('Predicted')\n",
    "plt.show()"
   ]
  },
  {
   "cell_type": "code",
   "execution_count": 177,
   "id": "33e01e00",
   "metadata": {},
   "outputs": [
    {
     "name": "stdout",
     "output_type": "stream",
     "text": [
      "Accuracy on training set: 0.4138752571703448\n"
     ]
    }
   ],
   "source": [
    "print(\"Accuracy on training set:\", model.score(X_train, y_train))"
   ]
  },
  {
   "cell_type": "code",
   "execution_count": 178,
   "id": "66a068b0",
   "metadata": {},
   "outputs": [
    {
     "data": {
      "text/plain": [
       "PolynomialFeatures(degree=3, include_bias=False)"
      ]
     },
     "execution_count": 178,
     "metadata": {},
     "output_type": "execute_result"
    }
   ],
   "source": [
    "poly = PolynomialFeatures(degree = 3, include_bias = False)\n",
    "poly"
   ]
  },
  {
   "cell_type": "code",
   "execution_count": 179,
   "id": "4d04de97",
   "metadata": {},
   "outputs": [
    {
     "data": {
      "text/plain": [
       "((347, 34), (149, 34))"
      ]
     },
     "execution_count": 179,
     "metadata": {},
     "output_type": "execute_result"
    }
   ],
   "source": [
    "poly_features = poly.fit_transform(X_train)\n",
    "poly_features_test = poly.fit_transform(X_test)\n",
    "poly_features.shape, poly_features_test.shape"
   ]
  },
  {
   "cell_type": "code",
   "execution_count": 180,
   "id": "00b0d840",
   "metadata": {},
   "outputs": [
    {
     "data": {
      "text/plain": [
       "LinearRegression()"
      ]
     },
     "execution_count": 180,
     "metadata": {},
     "output_type": "execute_result"
    }
   ],
   "source": [
    "poly_reg_model = LinearRegression()\n",
    "poly_reg_model"
   ]
  },
  {
   "cell_type": "code",
   "execution_count": 181,
   "id": "59a8fc24",
   "metadata": {},
   "outputs": [
    {
     "data": {
      "text/plain": [
       "LinearRegression()"
      ]
     },
     "execution_count": 181,
     "metadata": {},
     "output_type": "execute_result"
    }
   ],
   "source": [
    "poly_reg_model.fit(poly_features, y_train)"
   ]
  },
  {
   "cell_type": "code",
   "execution_count": 182,
   "id": "f8d3541b",
   "metadata": {},
   "outputs": [
    {
     "data": {
      "text/plain": [
       "(149, 1)"
      ]
     },
     "execution_count": 182,
     "metadata": {},
     "output_type": "execute_result"
    }
   ],
   "source": [
    "y_predicted = poly_reg_model.predict(poly_features_test)\n",
    "y_predicted.shape"
   ]
  },
  {
   "cell_type": "code",
   "execution_count": 183,
   "id": "833ee66a",
   "metadata": {},
   "outputs": [
    {
     "name": "stdout",
     "output_type": "stream",
     "text": [
      "Accuracy on training set with degree 2: 0.7803386997002716\n",
      "mean_squared_error :  161.60373469641868\n",
      "mean_absolute_error :  4.1975935247144776\n"
     ]
    }
   ],
   "source": [
    "print(\"Accuracy on training set with degree 2:\", poly_reg_model.score(poly_features, y_train))\n",
    "print(\n",
    "  'mean_squared_error : ', mean_squared_error(y_test, y_predicted))\n",
    "print(\n",
    "  'mean_absolute_error : ', mean_absolute_error(y_test, y_predicted))"
   ]
  },
  {
   "cell_type": "code",
   "execution_count": 184,
   "id": "39812daa",
   "metadata": {},
   "outputs": [
    {
     "name": "stdout",
     "output_type": "stream",
     "text": [
      "Accuracy on training set with degree 3: 0.7803386997002716\n",
      "mean_squared_error :  161.60373469641868\n",
      "mean_absolute_error :  4.1975935247144776\n"
     ]
    }
   ],
   "source": [
    "print(\"Accuracy on training set with degree 3:\", poly_reg_model.score(poly_features, y_train))\n",
    "print(\n",
    "  'mean_squared_error : ', mean_squared_error(y_test, y_predicted))\n",
    "print(\n",
    "  'mean_absolute_error : ', mean_absolute_error(y_test, y_predicted))"
   ]
  },
  {
   "cell_type": "code",
   "execution_count": 144,
   "id": "3702467d",
   "metadata": {},
   "outputs": [
    {
     "data": {
      "image/png": "[encoded data removed]",
      "text/plain": [
       "<Figure size 432x288 with 1 Axes>"
      ]
     },
     "metadata": {
      "needs_background": "light"
     },
     "output_type": "display_data"
    }
   ],
   "source": [
    "fig, ax = plt.subplots()\n",
    "ax.scatter(y_test, y_predicted)\n",
    "ax.plot([y_test.min(), y_test.max()], [y_test.min(), y_test.max()], 'k--', lw=4)\n",
    "ax.set_xlabel('Measured')\n",
    "ax.set_ylabel('Predicted')\n",
    "plt.show()"
   ]
  },
  {
   "cell_type": "code",
   "execution_count": 185,
   "id": "504cdb8f",
   "metadata": {},
   "outputs": [],
   "source": [
    "#tensorflow\n",
    "import tensorflow as tf\n",
    "import logging\n",
    "logging.getLogger(\"tensorflow\").setLevel(logging.ERROR)\n",
    "tf.autograph.set_verbosity(0)\n"
   ]
  },
  {
   "cell_type": "code",
   "execution_count": 535,
   "id": "641797bd",
   "metadata": {},
   "outputs": [],
   "source": [
    "#REMVOING NANS\n",
    "X_train['TEMP'] = X_train['TEMP'].replace((np.inf, -np.inf, np.nan), X_train['TEMP'].mean()).reset_index(drop=True)\n",
    "X_train['DO'] = X_train['DO'].replace((np.inf, -np.inf, np.nan), X_train['DO'].mean()).reset_index(drop=True)\n",
    "X_train['pH'] = X_train['pH'].replace((np.inf, -np.inf, np.nan), X_train['pH'].mean()).reset_index(drop=True)\n",
    "X_train['CONDUCTIVITY'] = X_train['CONDUCTIVITY'].replace((np.inf, -np.inf, np.nan), X_train['CONDUCTIVITY'].mean()).reset_index(drop=True)\n",
    "X_test['TEMP'] = X_test['TEMP'].replace((np.inf, -np.inf, np.nan), X_test['TEMP'].mean()).reset_index(drop=True)\n",
    "X_test['DO'] = X_test['DO'].replace((np.inf, -np.inf, np.nan), X_test['DO'].mean()).reset_index(drop=True)\n",
    "X_test['pH'] = X_test['pH'].replace((np.inf, -np.inf, np.nan), X_test['pH'].mean()).reset_index(drop=True)\n",
    "X_test['CONDUCTIVITY'] = X_test['CONDUCTIVITY'].replace((np.inf, -np.inf, np.nan), X_test['CONDUCTIVITY'].mean()).reset_index(drop=True)\n",
    "y_test = y_test.replace((np.inf, -np.inf, np.nan), y_test['BOD'].mean()).reset_index(drop=True)\n",
    "y_train = y_train.replace((np.inf, -np.inf, np.nan), y_train['BOD'].mean()).reset_index(drop=True)"
   ]
  },
  {
   "cell_type": "code",
   "execution_count": 186,
   "id": "1277b68e",
   "metadata": {},
   "outputs": [
    {
     "name": "stdout",
     "output_type": "stream",
     "text": [
      "Before Normalization: Max:  33.3 Min:  11.2\n",
      "Before Normalization: Max:  9.3 Min:  0.0\n",
      "Before Normalization: Max:  14.7 Min:  6.4\n",
      "Before Normalization: Max:  24062.0 Min:  39.0\n"
     ]
    }
   ],
   "source": [
    "print(\"Before Normalization: Max: \", X_train['TEMP'].max(), \"Min: \", X_train['TEMP'].min())\n",
    "print(\"Before Normalization: Max: \", X_train['DO'].max(), \"Min: \", X_train['DO'].min())\n",
    "print(\"Before Normalization: Max: \", X_train['pH'].max(), \"Min: \", X_train['pH'].min())\n",
    "print(\"Before Normalization: Max: \", X_train['CONDUCTIVITY'].max(), \"Min: \", X_train['CONDUCTIVITY'].min())"
   ]
  },
  {
   "cell_type": "code",
   "execution_count": 187,
   "id": "381e62ce",
   "metadata": {},
   "outputs": [],
   "source": [
    "norm_l = tf.keras.layers.Normalization(axis=-1)\n",
    "norm_l.adapt(X_train)  # learns mean, variance\n",
    "Xn = norm_l(X_train)\n",
    "X_train_normalized = pd.DataFrame(Xn)\n",
    "X_train_normalized.columns = ['TEMP','DO', 'pH', 'CONDUCTIVITY']"
   ]
  },
  {
   "cell_type": "code",
   "execution_count": 188,
   "id": "4fd86299",
   "metadata": {},
   "outputs": [
    {
     "name": "stdout",
     "output_type": "stream",
     "text": [
      "After Normalization: Max:  2.385959 Min:  -4.258147\n",
      "After Normalization: Max:  2.0092747 Min:  -4.4992633\n",
      "After Normalization: Max:  11.518901 Min:  -2.3169422\n",
      "After Normalization: Max:  11.381567 Min:  -0.33986464\n"
     ]
    }
   ],
   "source": [
    "print(\"After Normalization: Max: \", X_train_normalized['TEMP'].max(), \"Min: \", X_train_normalized['TEMP'].min())\n",
    "print(\"After Normalization: Max: \", X_train_normalized['DO'].max(), \"Min: \", X_train_normalized['DO'].min())\n",
    "print(\"After Normalization: Max: \", X_train_normalized['pH'].max(), \"Min: \", X_train_normalized['pH'].min())\n",
    "print(\"After Normalization: Max: \", X_train_normalized['CONDUCTIVITY'].max(), \"Min: \", X_train_normalized['CONDUCTIVITY'].min())"
   ]
  },
  {
   "cell_type": "code",
   "execution_count": 189,
   "id": "15322da3",
   "metadata": {},
   "outputs": [],
   "source": [
    "tf.random.set_seed(1234)  # applied to achieve consistent results\n",
    "model = Sequential(\n",
    "    [\n",
    "        Dense(4, activation='ReLU', name = 'layer1'),\n",
    "        Dense(10, activation='ReLU', name = 'layer2'),\n",
    "        Dense(1, activation='ReLU', name = 'layer3')\n",
    "        \n",
    "    ]\n",
    ")"
   ]
  },
  {
   "cell_type": "code",
   "execution_count": 190,
   "id": "0d0df370",
   "metadata": {},
   "outputs": [
    {
     "name": "stdout",
     "output_type": "stream",
     "text": [
      "Epoch 1/100\n",
      "11/11 [==============================] - 2s 4ms/step - loss: 84.4039\n",
      "Epoch 2/100\n",
      "11/11 [==============================] - 0s 4ms/step - loss: 74.0621\n",
      "Epoch 3/100\n",
      "11/11 [==============================] - 0s 4ms/step - loss: 64.4660\n",
      "Epoch 4/100\n",
      "11/11 [==============================] - 0s 4ms/step - loss: 54.5601\n",
      "Epoch 5/100\n",
      "11/11 [==============================] - 0s 3ms/step - loss: 48.6928\n",
      "Epoch 6/100\n",
      "11/11 [==============================] - 0s 3ms/step - loss: 44.1633\n",
      "Epoch 7/100\n",
      "11/11 [==============================] - 0s 3ms/step - loss: 40.7069\n",
      "Epoch 8/100\n",
      "11/11 [==============================] - 0s 3ms/step - loss: 38.4727\n",
      "Epoch 9/100\n",
      "11/11 [==============================] - 0s 3ms/step - loss: 36.2321\n",
      "Epoch 10/100\n",
      "11/11 [==============================] - 0s 3ms/step - loss: 34.9298\n",
      "Epoch 11/100\n",
      "11/11 [==============================] - 0s 3ms/step - loss: 33.6038\n",
      "Epoch 12/100\n",
      "11/11 [==============================] - 0s 2ms/step - loss: 32.4211\n",
      "Epoch 13/100\n",
      "11/11 [==============================] - 0s 3ms/step - loss: 32.3302\n",
      "Epoch 14/100\n",
      "11/11 [==============================] - 0s 3ms/step - loss: 30.9479\n",
      "Epoch 15/100\n",
      "11/11 [==============================] - 0s 3ms/step - loss: 30.4166\n",
      "Epoch 16/100\n",
      "11/11 [==============================] - 0s 3ms/step - loss: 29.7705\n",
      "Epoch 17/100\n",
      "11/11 [==============================] - 0s 3ms/step - loss: 28.9975\n",
      "Epoch 18/100\n",
      "11/11 [==============================] - 0s 3ms/step - loss: 29.5527\n",
      "Epoch 19/100\n",
      "11/11 [==============================] - 0s 3ms/step - loss: 28.9490\n",
      "Epoch 20/100\n",
      "11/11 [==============================] - 0s 3ms/step - loss: 28.0167\n",
      "Epoch 21/100\n",
      "11/11 [==============================] - 0s 6ms/step - loss: 27.3160\n",
      "Epoch 22/100\n",
      "11/11 [==============================] - 0s 2ms/step - loss: 26.2805\n",
      "Epoch 23/100\n",
      "11/11 [==============================] - 0s 2ms/step - loss: 26.0735\n",
      "Epoch 24/100\n",
      "11/11 [==============================] - 0s 2ms/step - loss: 25.8035\n",
      "Epoch 25/100\n",
      "11/11 [==============================] - 0s 3ms/step - loss: 25.3331\n",
      "Epoch 26/100\n",
      "11/11 [==============================] - 0s 3ms/step - loss: 25.3724\n",
      "Epoch 27/100\n",
      "11/11 [==============================] - 0s 3ms/step - loss: 24.8050\n",
      "Epoch 28/100\n",
      "11/11 [==============================] - 0s 2ms/step - loss: 24.5882\n",
      "Epoch 29/100\n",
      "11/11 [==============================] - 0s 3ms/step - loss: 24.6981\n",
      "Epoch 30/100\n",
      "11/11 [==============================] - 0s 3ms/step - loss: 24.0937\n",
      "Epoch 31/100\n",
      "11/11 [==============================] - 0s 3ms/step - loss: 23.6975\n",
      "Epoch 32/100\n",
      "11/11 [==============================] - 0s 3ms/step - loss: 23.8196\n",
      "Epoch 33/100\n",
      "11/11 [==============================] - 0s 3ms/step - loss: 24.8324\n",
      "Epoch 34/100\n",
      "11/11 [==============================] - 0s 3ms/step - loss: 23.1210\n",
      "Epoch 35/100\n",
      "11/11 [==============================] - 0s 3ms/step - loss: 23.4277\n",
      "Epoch 36/100\n",
      "11/11 [==============================] - 0s 3ms/step - loss: 23.3073\n",
      "Epoch 37/100\n",
      "11/11 [==============================] - 0s 2ms/step - loss: 23.1048\n",
      "Epoch 38/100\n",
      "11/11 [==============================] - 0s 3ms/step - loss: 23.5909\n",
      "Epoch 39/100\n",
      "11/11 [==============================] - 0s 2ms/step - loss: 23.2541\n",
      "Epoch 40/100\n",
      "11/11 [==============================] - 0s 2ms/step - loss: 22.2100\n",
      "Epoch 41/100\n",
      "11/11 [==============================] - 0s 2ms/step - loss: 22.7289\n",
      "Epoch 42/100\n",
      "11/11 [==============================] - 0s 3ms/step - loss: 21.8396\n",
      "Epoch 43/100\n",
      "11/11 [==============================] - 0s 2ms/step - loss: 22.0542\n",
      "Epoch 44/100\n",
      "11/11 [==============================] - 0s 2ms/step - loss: 21.8812\n",
      "Epoch 45/100\n",
      "11/11 [==============================] - 0s 2ms/step - loss: 21.6528\n",
      "Epoch 46/100\n",
      "11/11 [==============================] - 0s 2ms/step - loss: 21.5725\n",
      "Epoch 47/100\n",
      "11/11 [==============================] - 0s 2ms/step - loss: 22.1679\n",
      "Epoch 48/100\n",
      "11/11 [==============================] - 0s 3ms/step - loss: 21.6214\n",
      "Epoch 49/100\n",
      "11/11 [==============================] - 0s 3ms/step - loss: 21.4275\n",
      "Epoch 50/100\n",
      "11/11 [==============================] - 0s 3ms/step - loss: 21.3081\n",
      "Epoch 51/100\n",
      "11/11 [==============================] - 0s 3ms/step - loss: 21.1902\n",
      "Epoch 52/100\n",
      "11/11 [==============================] - 0s 3ms/step - loss: 21.3885\n",
      "Epoch 53/100\n",
      "11/11 [==============================] - 0s 3ms/step - loss: 21.9047\n",
      "Epoch 54/100\n",
      "11/11 [==============================] - 0s 3ms/step - loss: 20.7301\n",
      "Epoch 55/100\n",
      "11/11 [==============================] - 0s 3ms/step - loss: 20.8228\n",
      "Epoch 56/100\n",
      "11/11 [==============================] - 0s 3ms/step - loss: 20.9268\n",
      "Epoch 57/100\n",
      "11/11 [==============================] - 0s 2ms/step - loss: 20.0929\n",
      "Epoch 58/100\n",
      "11/11 [==============================] - 0s 2ms/step - loss: 20.4937\n",
      "Epoch 59/100\n",
      "11/11 [==============================] - 0s 2ms/step - loss: 20.3710\n",
      "Epoch 60/100\n",
      "11/11 [==============================] - 0s 2ms/step - loss: 19.9710\n",
      "Epoch 61/100\n",
      "11/11 [==============================] - 0s 3ms/step - loss: 19.9724\n",
      "Epoch 62/100\n",
      "11/11 [==============================] - 0s 2ms/step - loss: 19.8319\n",
      "Epoch 63/100\n",
      "11/11 [==============================] - 0s 2ms/step - loss: 19.5600\n",
      "Epoch 64/100\n",
      "11/11 [==============================] - 0s 3ms/step - loss: 19.7905\n",
      "Epoch 65/100\n",
      "11/11 [==============================] - 0s 3ms/step - loss: 19.9381\n",
      "Epoch 66/100\n",
      "11/11 [==============================] - 0s 3ms/step - loss: 19.3668\n",
      "Epoch 67/100\n",
      "11/11 [==============================] - 0s 3ms/step - loss: 19.3310\n",
      "Epoch 68/100\n",
      "11/11 [==============================] - 0s 3ms/step - loss: 19.1797\n",
      "Epoch 69/100\n",
      "11/11 [==============================] - 0s 2ms/step - loss: 19.3213\n",
      "Epoch 70/100\n",
      "11/11 [==============================] - 0s 2ms/step - loss: 19.1037\n",
      "Epoch 71/100\n",
      "11/11 [==============================] - 0s 3ms/step - loss: 19.0311\n",
      "Epoch 72/100\n",
      "11/11 [==============================] - 0s 2ms/step - loss: 19.1122\n",
      "Epoch 73/100\n",
      "11/11 [==============================] - 0s 3ms/step - loss: 19.0275\n",
      "Epoch 74/100\n",
      "11/11 [==============================] - 0s 2ms/step - loss: 18.9552\n",
      "Epoch 75/100\n",
      "11/11 [==============================] - 0s 2ms/step - loss: 18.8439\n",
      "Epoch 76/100\n",
      "11/11 [==============================] - 0s 2ms/step - loss: 18.5786\n",
      "Epoch 77/100\n",
      "11/11 [==============================] - 0s 3ms/step - loss: 18.9140\n",
      "Epoch 78/100\n",
      "11/11 [==============================] - 0s 3ms/step - loss: 18.6865\n",
      "Epoch 79/100\n",
      "11/11 [==============================] - 0s 2ms/step - loss: 18.5993\n",
      "Epoch 80/100\n",
      "11/11 [==============================] - 0s 2ms/step - loss: 18.7207\n",
      "Epoch 81/100\n",
      "11/11 [==============================] - 0s 5ms/step - loss: 18.2253\n",
      "Epoch 82/100\n",
      "11/11 [==============================] - 0s 3ms/step - loss: 18.4484\n",
      "Epoch 83/100\n",
      "11/11 [==============================] - 0s 3ms/step - loss: 18.2502\n",
      "Epoch 84/100\n",
      "11/11 [==============================] - 0s 3ms/step - loss: 18.9145\n",
      "Epoch 85/100\n",
      "11/11 [==============================] - 0s 3ms/step - loss: 18.7178\n",
      "Epoch 86/100\n",
      "11/11 [==============================] - 0s 2ms/step - loss: 18.1467\n",
      "Epoch 87/100\n",
      "11/11 [==============================] - 0s 2ms/step - loss: 18.0382\n",
      "Epoch 88/100\n",
      "11/11 [==============================] - 0s 2ms/step - loss: 17.8710\n",
      "Epoch 89/100\n",
      "11/11 [==============================] - 0s 2ms/step - loss: 18.1110\n",
      "Epoch 90/100\n",
      "11/11 [==============================] - 0s 2ms/step - loss: 17.7922\n",
      "Epoch 91/100\n",
      "11/11 [==============================] - 0s 2ms/step - loss: 17.6273\n",
      "Epoch 92/100\n",
      "11/11 [==============================] - 0s 2ms/step - loss: 17.5916\n",
      "Epoch 93/100\n",
      "11/11 [==============================] - 0s 2ms/step - loss: 18.0296\n",
      "Epoch 94/100\n",
      "11/11 [==============================] - 0s 2ms/step - loss: 17.9000\n",
      "Epoch 95/100\n",
      "11/11 [==============================] - 0s 2ms/step - loss: 17.4601\n",
      "Epoch 96/100\n",
      "11/11 [==============================] - 0s 2ms/step - loss: 17.7004\n",
      "Epoch 97/100\n",
      "11/11 [==============================] - 0s 2ms/step - loss: 17.3922\n",
      "Epoch 98/100\n",
      "11/11 [==============================] - 0s 3ms/step - loss: 17.3245\n",
      "Epoch 99/100\n",
      "11/11 [==============================] - 0s 3ms/step - loss: 17.3196\n",
      "Epoch 100/100\n",
      "11/11 [==============================] - 0s 3ms/step - loss: 17.6382\n"
     ]
    },
    {
     "data": {
      "text/plain": [
       "<keras.callbacks.History at 0x1a648ecc970>"
      ]
     },
     "execution_count": 190,
     "metadata": {},
     "output_type": "execute_result"
    }
   ],
   "source": [
    "model.compile(\n",
    "    loss = tf.keras.losses.MeanSquaredError(),\n",
    "    optimizer = tf.keras.optimizers.Adam(learning_rate=0.01),\n",
    ")\n",
    "\n",
    "model.fit(\n",
    "    X_train_normalized, y_train,            \n",
    "    epochs=100,\n",
    ")"
   ]
  },
  {
   "cell_type": "code",
   "execution_count": 191,
   "id": "7e3ba5ba",
   "metadata": {},
   "outputs": [],
   "source": [
    "X_testn = norm_l(X_test)\n",
    "predictions = model.predict(X_testn)"
   ]
  },
  {
   "cell_type": "code",
   "execution_count": 192,
   "id": "d988bef0",
   "metadata": {},
   "outputs": [
    {
     "name": "stdout",
     "output_type": "stream",
     "text": [
      "[2.4505067] BOD    1.3\n",
      "Name: 100, dtype: float64\n",
      "[0.] BOD    2.8\n",
      "Name: 278, dtype: float64\n",
      "[2.2622595] BOD    0.8\n",
      "Name: 307, dtype: float64\n",
      "[3.4003286] BOD    1.3\n",
      "Name: 470, dtype: float64\n",
      "[2.9473524] BOD    2.1\n",
      "Name: 360, dtype: float64\n",
      "[3.6547832] BOD    3.6\n",
      "Name: 15, dtype: float64\n",
      "[2.679753] BOD    4.6\n",
      "Name: 340, dtype: float64\n",
      "[2.1934953] BOD    1.1\n",
      "Name: 523, dtype: float64\n",
      "[49.37468] BOD    24.0\n",
      "Name: 176, dtype: float64\n",
      "[2.5506139] BOD    1.1\n",
      "Name: 169, dtype: float64\n",
      "[10.729466] BOD    4.7\n",
      "Name: 265, dtype: float64\n",
      "[2.2540755] BOD    2.4\n",
      "Name: 274, dtype: float64\n",
      "[3.5143595] BOD    3.5\n",
      "Name: 453, dtype: float64\n",
      "[2.5005841] BOD    4.9\n",
      "Name: 313, dtype: float64\n",
      "[2.743338] BOD    2.1\n",
      "Name: 190, dtype: float64\n",
      "[5.2691455] BOD    5.7\n",
      "Name: 351, dtype: float64\n",
      "[12.456236] BOD    6.6\n",
      "Name: 499, dtype: float64\n",
      "[2.6146908] BOD    1.0\n",
      "Name: 377, dtype: float64\n",
      "[2.345726] BOD    1.4\n",
      "Name: 170, dtype: float64\n",
      "[2.3343768] BOD    1.4\n",
      "Name: 47, dtype: float64\n",
      "[39.650463] BOD    37.5\n",
      "Name: 228, dtype: float64\n",
      "[2.940065] BOD    2.0\n",
      "Name: 388, dtype: float64\n",
      "[2.1307259] BOD    2.4\n",
      "Name: 264, dtype: float64\n",
      "[4.7203746] BOD    1.5\n",
      "Name: 118, dtype: float64\n",
      "[2.0658507] BOD    3.6\n",
      "Name: 55, dtype: float64\n",
      "[7.4589725] BOD    2.1\n",
      "Name: 463, dtype: float64\n",
      "[5.625088] BOD    12.5\n",
      "Name: 21, dtype: float64\n",
      "[2.679047] BOD    1.5\n",
      "Name: 389, dtype: float64\n",
      "[3.090972] BOD    1.5\n",
      "Name: 106, dtype: float64\n",
      "[1.9802679] BOD    1.8\n",
      "Name: 257, dtype: float64\n",
      "[4.67422] BOD    9.1\n",
      "Name: 412, dtype: float64\n",
      "[2.9762526] BOD    0.7\n",
      "Name: 128, dtype: float64\n",
      "[12.657255] BOD    9.2\n",
      "Name: 139, dtype: float64\n",
      "[2.168404] BOD    1.3\n",
      "Name: 213, dtype: float64\n",
      "[1.2001141] BOD    10.9\n",
      "Name: 398, dtype: float64\n",
      "[2.8244705] BOD    1.6\n",
      "Name: 381, dtype: float64\n",
      "[7.4988923] BOD    4.9\n",
      "Name: 335, dtype: float64\n",
      "[6.0743794] BOD    2.0\n",
      "Name: 474, dtype: float64\n",
      "[2.7471004] BOD    1.6\n",
      "Name: 375, dtype: float64\n",
      "[15.964168] BOD    7.1\n",
      "Name: 262, dtype: float64\n",
      "[2.5864778] BOD    2.9\n",
      "Name: 346, dtype: float64\n",
      "[2.1306915] BOD    3.9\n",
      "Name: 56, dtype: float64\n",
      "[2.3703194] BOD    3.7\n",
      "Name: 428, dtype: float64\n",
      "[1.8535725] BOD    2.8\n",
      "Name: 245, dtype: float64\n",
      "[2.2205315] BOD    2.3\n",
      "Name: 86, dtype: float64\n",
      "[4.3979554] BOD    3.1\n",
      "Name: 1, dtype: float64\n",
      "[5.3788285] BOD    3.7\n",
      "Name: 237, dtype: float64\n",
      "[2.123486] BOD    2.1\n",
      "Name: 500, dtype: float64\n",
      "[3.0234547] BOD    2.9\n",
      "Name: 443, dtype: float64\n",
      "[2.5475144] BOD    2.8\n",
      "Name: 112, dtype: float64\n",
      "[3.1112428] BOD    1.8\n",
      "Name: 385, dtype: float64\n",
      "[2.5760584] BOD    2.0\n",
      "Name: 189, dtype: float64\n",
      "[2.4200864] BOD    2.1\n",
      "Name: 416, dtype: float64\n",
      "[4.1969023] BOD    1.5\n",
      "Name: 160, dtype: float64\n",
      "[4.960038] BOD    4.3\n",
      "Name: 148, dtype: float64\n",
      "[5.7219706] BOD    4.2\n",
      "Name: 12, dtype: float64\n",
      "[10.6012945] BOD    7.5\n",
      "Name: 350, dtype: float64\n",
      "[5.226225] BOD    1.0\n",
      "Name: 192, dtype: float64\n",
      "[3.0970645] BOD    3.4\n",
      "Name: 248, dtype: float64\n",
      "[2.8665] BOD    3.8\n",
      "Name: 364, dtype: float64\n",
      "[2.5114617] BOD    3.3\n",
      "Name: 88, dtype: float64\n",
      "[23.312422] BOD    17.0\n",
      "Name: 300, dtype: float64\n",
      "[5.503704] BOD    9.6\n",
      "Name: 411, dtype: float64\n",
      "[13.070091] BOD    2.9\n",
      "Name: 477, dtype: float64\n",
      "[2.8311467] BOD    5.1\n",
      "Name: 325, dtype: float64\n",
      "[3.014236] BOD    2.3\n",
      "Name: 218, dtype: float64\n",
      "[4.568626] BOD    3.5\n",
      "Name: 10, dtype: float64\n",
      "[3.5797768] BOD    3.6\n",
      "Name: 429, dtype: float64\n",
      "[17.375996] BOD    27.5\n",
      "Name: 295, dtype: float64\n",
      "[2.2591949] BOD    2.4\n",
      "Name: 85, dtype: float64\n",
      "[2.2720828] BOD    1.1\n",
      "Name: 158, dtype: float64\n",
      "[2.255427] BOD    2.4\n",
      "Name: 75, dtype: float64\n",
      "[3.8163834] BOD    1.0\n",
      "Name: 485, dtype: float64\n",
      "[7.0877705] BOD    7.2\n",
      "Name: 355, dtype: float64\n",
      "[30.5015] BOD    40.0\n",
      "Name: 194, dtype: float64\n",
      "[3.087164] BOD    2.6\n",
      "Name: 384, dtype: float64\n",
      "[13.782308] BOD    9.7\n",
      "Name: 288, dtype: float64\n",
      "[2.674232] BOD    2.9\n",
      "Name: 110, dtype: float64\n",
      "[5.9605513] BOD    1.9\n",
      "Name: 525, dtype: float64\n",
      "[2.3726225] BOD    4.8\n",
      "Name: 319, dtype: float64\n",
      "[2.962245] BOD    5.4\n",
      "Name: 324, dtype: float64\n",
      "[0.] BOD    2.0\n",
      "Name: 259, dtype: float64\n",
      "[3.443686] BOD    3.3\n",
      "Name: 454, dtype: float64\n",
      "[2.440412] BOD    3.0\n",
      "Name: 243, dtype: float64\n",
      "[4.0821104] BOD    11.1\n",
      "Name: 352, dtype: float64\n",
      "[2.6198888] BOD    2.9\n",
      "Name: 349, dtype: float64\n",
      "[3.344409] BOD    4.0\n",
      "Name: 446, dtype: float64\n",
      "[0.] BOD    0.3\n",
      "Name: 173, dtype: float64\n",
      "[2.6766791] BOD    2.3\n",
      "Name: 370, dtype: float64\n",
      "[2.1538944] BOD    2.5\n",
      "Name: 64, dtype: float64\n",
      "[1.6158239] BOD    3.4\n",
      "Name: 244, dtype: float64\n",
      "[3.997589] BOD    3.4\n",
      "Name: 427, dtype: float64\n",
      "[5.268792] BOD    10.7\n",
      "Name: 403, dtype: float64\n",
      "[2.5753436] BOD    3.0\n",
      "Name: 222, dtype: float64\n",
      "[4.4067016] BOD    5.2\n",
      "Name: 201, dtype: float64\n",
      "[7.459509] BOD    10.5\n",
      "Name: 417, dtype: float64\n",
      "[2.2210684] BOD    2.3\n",
      "Name: 66, dtype: float64\n",
      "[5.0670314] BOD    0.7\n",
      "Name: 465, dtype: float64\n",
      "[2.3195634] BOD    2.7\n",
      "Name: 70, dtype: float64\n",
      "[2.42653] BOD    6.4\n",
      "Name: 231, dtype: float64\n",
      "[2.8902879] BOD    1.8\n",
      "Name: 117, dtype: float64\n",
      "[1.0016223] BOD    0.8\n",
      "Name: 423, dtype: float64\n",
      "[2.167817] BOD    2.2\n",
      "Name: 81, dtype: float64\n",
      "[2.401742] BOD    3.1\n",
      "Name: 505, dtype: float64\n",
      "[5.036045] BOD    10.3\n",
      "Name: 6, dtype: float64\n",
      "[2.659244] BOD    1.5\n",
      "Name: 437, dtype: float64\n",
      "[3.9665966] BOD    2.6\n",
      "Name: 123, dtype: float64\n",
      "[2.2989688] BOD    2.0\n",
      "Name: 260, dtype: float64\n",
      "[5.884496] BOD    7.4\n",
      "Name: 323, dtype: float64\n",
      "[0.] BOD    0.2\n",
      "Name: 171, dtype: float64\n",
      "[11.523125] BOD    19.3\n",
      "Name: 296, dtype: float64\n",
      "[4.080621] BOD    3.8\n",
      "Name: 7, dtype: float64\n",
      "[2.445908] BOD    1.4\n",
      "Name: 153, dtype: float64\n",
      "[4.64569] BOD    5.2\n",
      "Name: 8, dtype: float64\n",
      "[3.402575] BOD    4.2\n",
      "Name: 456, dtype: float64\n",
      "[3.4438124] BOD    3.3\n",
      "Name: 457, dtype: float64\n",
      "[5.4675527] BOD    4.7\n",
      "Name: 392, dtype: float64\n",
      "[5.169598] BOD    1.1\n",
      "Name: 308, dtype: float64\n",
      "[3.6818495] BOD    5.1\n",
      "Name: 234, dtype: float64\n",
      "[0.18922198] BOD    2.0\n",
      "Name: 210, dtype: float64\n",
      "[1.6562496] BOD    1.0\n",
      "Name: 455, dtype: float64\n",
      "[2.1423059] BOD    2.6\n",
      "Name: 59, dtype: float64\n",
      "[4.45399] BOD    2.2\n",
      "Name: 150, dtype: float64\n",
      "[2.5498786] BOD    1.4\n",
      "Name: 387, dtype: float64\n",
      "[7.984756] BOD    11.2\n",
      "Name: 435, dtype: float64\n",
      "[9.085189] BOD    30.0\n",
      "Name: 263, dtype: float64\n",
      "[2.3478212] BOD    2.8\n",
      "Name: 69, dtype: float64\n",
      "[9.940478] BOD    1.2\n",
      "Name: 529, dtype: float64\n",
      "[5.1890025] BOD    13.0\n",
      "Name: 488, dtype: float64\n",
      "[2.9940639] BOD    1.5\n",
      "Name: 436, dtype: float64\n",
      "[12.984949] BOD    3.2\n",
      "Name: 519, dtype: float64\n",
      "[0.] BOD    2.1\n",
      "Name: 253, dtype: float64\n",
      "[1.5361258] BOD    3.1\n",
      "Name: 321, dtype: float64\n",
      "[2.2390938] BOD    2.7\n",
      "Name: 65, dtype: float64\n",
      "[8.152479] BOD    7.7\n",
      "Name: 317, dtype: float64\n",
      "[6.8403015] BOD    1.5\n",
      "Name: 524, dtype: float64\n",
      "[4.960038] BOD    5.5\n",
      "Name: 482, dtype: float64\n",
      "[2.8396592] BOD    29.5\n",
      "Name: 481, dtype: float64\n",
      "[2.7101722] BOD    1.9\n",
      "Name: 448, dtype: float64\n",
      "[4.698565] BOD    0.8\n",
      "Name: 208, dtype: float64\n",
      "[2.4912262] BOD    1.7\n",
      "Name: 216, dtype: float64\n",
      "[3.6553254] BOD    3.9\n",
      "Name: 62, dtype: float64\n",
      "[2.213026] BOD    2.4\n",
      "Name: 84, dtype: float64\n",
      "[0.] BOD    0.3\n",
      "Name: 26, dtype: float64\n",
      "[2.1175485] BOD    1.0\n",
      "Name: 522, dtype: float64\n",
      "[4.445284] BOD    3.2\n",
      "Name: 4, dtype: float64\n",
      "[2.4181771] BOD    5.0\n",
      "Name: 342, dtype: float64\n",
      "[10.148264] BOD    13.7\n",
      "Name: 353, dtype: float64\n",
      "[0.] BOD    2.0\n",
      "Name: 269, dtype: float64\n"
     ]
    },
    {
     "ename": "IndexError",
     "evalue": "index 149 is out of bounds for axis 0 with size 149",
     "output_type": "error",
     "traceback": [
      "\u001b[1;31m---------------------------------------------------------------------------\u001b[0m",
      "\u001b[1;31mIndexError\u001b[0m                                Traceback (most recent call last)",
      "\u001b[1;32m~\\AppData\\Local\\Temp/ipykernel_4300/2148408363.py\u001b[0m in \u001b[0;36m<module>\u001b[1;34m\u001b[0m\n\u001b[0;32m      1\u001b[0m \u001b[1;32mfor\u001b[0m \u001b[0mi\u001b[0m \u001b[1;32min\u001b[0m \u001b[0mrange\u001b[0m\u001b[1;33m(\u001b[0m\u001b[1;36m150\u001b[0m\u001b[1;33m)\u001b[0m\u001b[1;33m:\u001b[0m\u001b[1;33m\u001b[0m\u001b[1;33m\u001b[0m\u001b[0m\n\u001b[1;32m----> 2\u001b[1;33m     \u001b[0mprint\u001b[0m\u001b[1;33m(\u001b[0m\u001b[0mpredictions\u001b[0m\u001b[1;33m[\u001b[0m\u001b[0mi\u001b[0m\u001b[1;33m]\u001b[0m\u001b[1;33m,\u001b[0m \u001b[0my_test\u001b[0m\u001b[1;33m.\u001b[0m\u001b[0miloc\u001b[0m\u001b[1;33m[\u001b[0m\u001b[0mi\u001b[0m\u001b[1;33m]\u001b[0m\u001b[1;33m)\u001b[0m\u001b[1;33m\u001b[0m\u001b[1;33m\u001b[0m\u001b[0m\n\u001b[0m",
      "\u001b[1;31mIndexError\u001b[0m: index 149 is out of bounds for axis 0 with size 149"
     ]
    }
   ],
   "source": [
    "for i in range(150):\n",
    "    print(predictions[i], y_test.iloc[i])"
   ]
  },
  {
   "cell_type": "code",
   "execution_count": 193,
   "id": "efd075a0",
   "metadata": {},
   "outputs": [
    {
     "data": {
      "image/png": "[encoded data removed]",
      "text/plain": [
       "<Figure size 432x288 with 1 Axes>"
      ]
     },
     "metadata": {
      "needs_background": "light"
     },
     "output_type": "display_data"
    }
   ],
   "source": [
    "fig, ax = plt.subplots()\n",
    "ax.scatter(y_test, predictions)\n",
    "ax.plot([y_test.min(), y_test.max()], [y_test.min(), y_test.max()], 'k--', lw=4)\n",
    "ax.set_xlabel('Measured')\n",
    "ax.set_ylabel('Predicted')\n",
    "plt.show()"
   ]
  },
  {
   "cell_type": "code",
   "execution_count": 107,
   "id": "5fc7c0fe",
   "metadata": {},
   "outputs": [
    {
     "data": {
      "text/plain": [
       "1.7212646"
      ]
     },
     "execution_count": 107,
     "metadata": {},
     "output_type": "execute_result"
    }
   ],
   "source": [
    "predictions.max()"
   ]
  },
  {
   "cell_type": "code",
   "execution_count": 154,
   "id": "ebe9ad42",
   "metadata": {},
   "outputs": [
    {
     "data": {
      "text/plain": [
       "((347, 34), (149, 34))"
      ]
     },
     "execution_count": 154,
     "metadata": {},
     "output_type": "execute_result"
    }
   ],
   "source": [
    "poly_features_tensor = poly.fit_transform(X_train_normalized)\n",
    "poly_features_test_tensor = poly.fit_transform(X_testn)\n",
    "poly_features_tensor.shape, poly_features_test_tensor.shape"
   ]
  },
  {
   "cell_type": "code",
   "execution_count": 155,
   "id": "1a8ffc6a",
   "metadata": {},
   "outputs": [],
   "source": [
    "tf.random.set_seed(1234)  # applied to achieve consistent results\n",
    "model_poly = Sequential(\n",
    "    [\n",
    "        Dense(34, activation='ReLU', name = 'layer1'),\n",
    "        Dense(10, activation='ReLU', name = 'layer2'),\n",
    "        Dense(1, activation='ReLU', name = 'layer3')\n",
    "        \n",
    "    ]\n",
    ")"
   ]
  },
  {
   "cell_type": "code",
   "execution_count": 156,
   "id": "9031e96e",
   "metadata": {},
   "outputs": [
    {
     "name": "stdout",
     "output_type": "stream",
     "text": [
      "Epoch 1/50\n",
      "11/11 [==============================] - 0s 2ms/step - loss: 1778.2291\n",
      "Epoch 2/50\n",
      "11/11 [==============================] - 0s 2ms/step - loss: 591.1942\n",
      "Epoch 3/50\n",
      "11/11 [==============================] - 0s 2ms/step - loss: 142.6601\n",
      "Epoch 4/50\n",
      "11/11 [==============================] - 0s 2ms/step - loss: 52.5036\n",
      "Epoch 5/50\n",
      "11/11 [==============================] - 0s 2ms/step - loss: 28.8527\n",
      "Epoch 6/50\n",
      "11/11 [==============================] - 0s 2ms/step - loss: 25.0927\n",
      "Epoch 7/50\n",
      "11/11 [==============================] - 0s 2ms/step - loss: 22.6458\n",
      "Epoch 8/50\n",
      "11/11 [==============================] - 0s 2ms/step - loss: 21.5949\n",
      "Epoch 9/50\n",
      "11/11 [==============================] - 0s 2ms/step - loss: 19.8386\n",
      "Epoch 10/50\n",
      "11/11 [==============================] - 0s 2ms/step - loss: 18.5970\n",
      "Epoch 11/50\n",
      "11/11 [==============================] - 0s 2ms/step - loss: 19.2544\n",
      "Epoch 12/50\n",
      "11/11 [==============================] - 0s 2ms/step - loss: 17.3687\n",
      "Epoch 13/50\n",
      "11/11 [==============================] - 0s 2ms/step - loss: 16.6738\n",
      "Epoch 14/50\n",
      "11/11 [==============================] - 0s 2ms/step - loss: 15.9116\n",
      "Epoch 15/50\n",
      "11/11 [==============================] - 0s 2ms/step - loss: 15.4609\n",
      "Epoch 16/50\n",
      "11/11 [==============================] - 0s 2ms/step - loss: 16.6285\n",
      "Epoch 17/50\n",
      "11/11 [==============================] - 0s 2ms/step - loss: 13.9179\n",
      "Epoch 18/50\n",
      "11/11 [==============================] - 0s 2ms/step - loss: 14.4440\n",
      "Epoch 19/50\n",
      "11/11 [==============================] - 0s 2ms/step - loss: 14.2022\n",
      "Epoch 20/50\n",
      "11/11 [==============================] - 0s 2ms/step - loss: 13.2306\n",
      "Epoch 21/50\n",
      "11/11 [==============================] - 0s 2ms/step - loss: 13.1860\n",
      "Epoch 22/50\n",
      "11/11 [==============================] - 0s 2ms/step - loss: 12.2300\n",
      "Epoch 23/50\n",
      "11/11 [==============================] - 0s 2ms/step - loss: 11.8916\n",
      "Epoch 24/50\n",
      "11/11 [==============================] - 0s 2ms/step - loss: 12.7805\n",
      "Epoch 25/50\n",
      "11/11 [==============================] - 0s 2ms/step - loss: 12.0608\n",
      "Epoch 26/50\n",
      "11/11 [==============================] - 0s 2ms/step - loss: 11.0076\n",
      "Epoch 27/50\n",
      "11/11 [==============================] - 0s 2ms/step - loss: 10.8274\n",
      "Epoch 28/50\n",
      "11/11 [==============================] - 0s 2ms/step - loss: 10.6724\n",
      "Epoch 29/50\n",
      "11/11 [==============================] - 0s 2ms/step - loss: 11.0511\n",
      "Epoch 30/50\n",
      "11/11 [==============================] - 0s 2ms/step - loss: 10.7827\n",
      "Epoch 31/50\n",
      "11/11 [==============================] - 0s 2ms/step - loss: 9.8367\n",
      "Epoch 32/50\n",
      "11/11 [==============================] - 0s 2ms/step - loss: 9.8370\n",
      "Epoch 33/50\n",
      "11/11 [==============================] - 0s 2ms/step - loss: 9.4531\n",
      "Epoch 34/50\n",
      "11/11 [==============================] - 0s 2ms/step - loss: 9.6514\n",
      "Epoch 35/50\n",
      "11/11 [==============================] - 0s 2ms/step - loss: 9.5389\n",
      "Epoch 36/50\n",
      "11/11 [==============================] - 0s 2ms/step - loss: 9.1686\n",
      "Epoch 37/50\n",
      "11/11 [==============================] - 0s 2ms/step - loss: 8.9005\n",
      "Epoch 38/50\n",
      "11/11 [==============================] - 0s 2ms/step - loss: 9.5278\n",
      "Epoch 39/50\n",
      "11/11 [==============================] - 0s 2ms/step - loss: 9.0536\n",
      "Epoch 40/50\n",
      "11/11 [==============================] - 0s 2ms/step - loss: 8.1664\n",
      "Epoch 41/50\n",
      "11/11 [==============================] - 0s 2ms/step - loss: 8.3229\n",
      "Epoch 42/50\n",
      "11/11 [==============================] - 0s 2ms/step - loss: 8.6399\n",
      "Epoch 43/50\n",
      "11/11 [==============================] - 0s 2ms/step - loss: 10.0602\n",
      "Epoch 44/50\n",
      "11/11 [==============================] - 0s 2ms/step - loss: 7.7643\n",
      "Epoch 45/50\n",
      "11/11 [==============================] - 0s 2ms/step - loss: 8.3391\n",
      "Epoch 46/50\n",
      "11/11 [==============================] - 0s 2ms/step - loss: 7.6163\n",
      "Epoch 47/50\n",
      "11/11 [==============================] - 0s 2ms/step - loss: 8.3958\n",
      "Epoch 48/50\n",
      "11/11 [==============================] - 0s 2ms/step - loss: 7.6305\n",
      "Epoch 49/50\n",
      "11/11 [==============================] - 0s 2ms/step - loss: 7.5585\n",
      "Epoch 50/50\n",
      "11/11 [==============================] - 0s 2ms/step - loss: 7.4191\n"
     ]
    },
    {
     "data": {
      "text/plain": [
       "<keras.callbacks.History at 0x1a647bee140>"
      ]
     },
     "execution_count": 156,
     "metadata": {},
     "output_type": "execute_result"
    }
   ],
   "source": [
    "model_poly.compile(\n",
    "    loss = tf.keras.losses.MeanSquaredError(),\n",
    "    optimizer = tf.keras.optimizers.Adam(learning_rate=0.01),\n",
    ")\n",
    "\n",
    "model_poly.fit(\n",
    "    poly_features_tensor, y_train,            \n",
    "    epochs=50,\n",
    ")\n",
    "\n"
   ]
  },
  {
   "cell_type": "code",
   "execution_count": 157,
   "id": "0552a89a",
   "metadata": {},
   "outputs": [],
   "source": [
    "predictions_poly = model_poly.predict(poly_features_test_tensor)"
   ]
  },
  {
   "cell_type": "code",
   "execution_count": 158,
   "id": "fbcfcfcd",
   "metadata": {},
   "outputs": [
    {
     "name": "stdout",
     "output_type": "stream",
     "text": [
      "[1.0847237] BOD    1.3\n",
      "Name: 100, dtype: float64\n",
      "[0.73458576] BOD    2.8\n",
      "Name: 278, dtype: float64\n",
      "[1.1548456] BOD    0.8\n",
      "Name: 307, dtype: float64\n",
      "[3.042403] BOD    1.3\n",
      "Name: 470, dtype: float64\n",
      "[3.1795847] BOD    2.1\n",
      "Name: 360, dtype: float64\n",
      "[2.864065] BOD    3.6\n",
      "Name: 15, dtype: float64\n",
      "[3.8741705] BOD    4.6\n",
      "Name: 340, dtype: float64\n",
      "[1.7891654] BOD    1.1\n",
      "Name: 523, dtype: float64\n",
      "[50.779205] BOD    24.0\n",
      "Name: 176, dtype: float64\n",
      "[2.9107344] BOD    1.1\n",
      "Name: 169, dtype: float64\n",
      "[8.626752] BOD    4.7\n",
      "Name: 265, dtype: float64\n",
      "[2.303626] BOD    2.4\n",
      "Name: 274, dtype: float64\n",
      "[3.3829386] BOD    3.5\n",
      "Name: 453, dtype: float64\n",
      "[3.25744] BOD    4.9\n",
      "Name: 313, dtype: float64\n",
      "[3.4526942] BOD    2.1\n",
      "Name: 190, dtype: float64\n",
      "[5.6354027] BOD    5.7\n",
      "Name: 351, dtype: float64\n",
      "[14.295264] BOD    6.6\n",
      "Name: 499, dtype: float64\n",
      "[0.1673052] BOD    1.0\n",
      "Name: 377, dtype: float64\n",
      "[2.6500025] BOD    1.4\n",
      "Name: 170, dtype: float64\n",
      "[1.5918573] BOD    1.4\n",
      "Name: 47, dtype: float64\n",
      "[41.646576] BOD    37.5\n",
      "Name: 228, dtype: float64\n",
      "[2.5118806] BOD    2.0\n",
      "Name: 388, dtype: float64\n",
      "[2.420263] BOD    2.4\n",
      "Name: 264, dtype: float64\n",
      "[4.088795] BOD    1.5\n",
      "Name: 118, dtype: float64\n",
      "[5.243889] BOD    3.6\n",
      "Name: 55, dtype: float64\n",
      "[3.6691792] BOD    2.1\n",
      "Name: 463, dtype: float64\n",
      "[13.007987] BOD    12.5\n",
      "Name: 21, dtype: float64\n",
      "[0.] BOD    1.5\n",
      "Name: 389, dtype: float64\n",
      "[1.8336971] BOD    1.5\n",
      "Name: 106, dtype: float64\n",
      "[2.7717268] BOD    1.8\n",
      "Name: 257, dtype: float64\n",
      "[4.65338] BOD    9.1\n",
      "Name: 412, dtype: float64\n",
      "[2.876161] BOD    0.7\n",
      "Name: 128, dtype: float64\n",
      "[6.3300114] BOD    9.2\n",
      "Name: 139, dtype: float64\n",
      "[1.0453441] BOD    1.3\n",
      "Name: 213, dtype: float64\n",
      "[3.207702] BOD    10.9\n",
      "Name: 398, dtype: float64\n",
      "[1.8016199] BOD    1.6\n",
      "Name: 381, dtype: float64\n",
      "[1.9617155] BOD    4.9\n",
      "Name: 335, dtype: float64\n",
      "[1.7119877] BOD    2.0\n",
      "Name: 474, dtype: float64\n",
      "[2.129123] BOD    1.6\n",
      "Name: 375, dtype: float64\n",
      "[11.896245] BOD    7.1\n",
      "Name: 262, dtype: float64\n",
      "[3.0643673] BOD    2.9\n",
      "Name: 346, dtype: float64\n",
      "[4.504754] BOD    3.9\n",
      "Name: 56, dtype: float64\n",
      "[1.8864394] BOD    3.7\n",
      "Name: 428, dtype: float64\n",
      "[2.2933443] BOD    2.8\n",
      "Name: 245, dtype: float64\n",
      "[3.1783075] BOD    2.3\n",
      "Name: 86, dtype: float64\n",
      "[4.1001635] BOD    3.1\n",
      "Name: 1, dtype: float64\n",
      "[4.738519] BOD    3.7\n",
      "Name: 237, dtype: float64\n",
      "[3.7033656] BOD    2.1\n",
      "Name: 500, dtype: float64\n",
      "[2.7158] BOD    2.9\n",
      "Name: 443, dtype: float64\n",
      "[3.1685345] BOD    2.8\n",
      "Name: 112, dtype: float64\n",
      "[1.8999883] BOD    1.8\n",
      "Name: 385, dtype: float64\n",
      "[3.3224828] BOD    2.0\n",
      "Name: 189, dtype: float64\n",
      "[2.575809] BOD    2.1\n",
      "Name: 416, dtype: float64\n",
      "[3.0376425] BOD    1.5\n",
      "Name: 160, dtype: float64\n",
      "[6.9130907] BOD    4.3\n",
      "Name: 148, dtype: float64\n",
      "[5.1341887] BOD    4.2\n",
      "Name: 12, dtype: float64\n",
      "[8.398156] BOD    7.5\n",
      "Name: 350, dtype: float64\n",
      "[8.021784] BOD    1.0\n",
      "Name: 192, dtype: float64\n",
      "[4.0940604] BOD    3.4\n",
      "Name: 248, dtype: float64\n",
      "[2.1365187] BOD    3.8\n",
      "Name: 364, dtype: float64\n",
      "[3.0908685] BOD    3.3\n",
      "Name: 88, dtype: float64\n",
      "[22.86967] BOD    17.0\n",
      "Name: 300, dtype: float64\n",
      "[6.766106] BOD    9.6\n",
      "Name: 411, dtype: float64\n",
      "[5.0299315] BOD    2.9\n",
      "Name: 477, dtype: float64\n",
      "[3.1488137] BOD    5.1\n",
      "Name: 325, dtype: float64\n",
      "[2.0682888] BOD    2.3\n",
      "Name: 218, dtype: float64\n",
      "[3.2205226] BOD    3.5\n",
      "Name: 10, dtype: float64\n",
      "[3.9847386] BOD    3.6\n",
      "Name: 429, dtype: float64\n",
      "[16.368525] BOD    27.5\n",
      "Name: 295, dtype: float64\n",
      "[2.3117814] BOD    2.4\n",
      "Name: 85, dtype: float64\n",
      "[2.096674] BOD    1.1\n",
      "Name: 158, dtype: float64\n",
      "[2.3253198] BOD    2.4\n",
      "Name: 75, dtype: float64\n",
      "[5.665384] BOD    1.0\n",
      "Name: 485, dtype: float64\n",
      "[4.266744] BOD    7.2\n",
      "Name: 355, dtype: float64\n",
      "[85.99105] BOD    40.0\n",
      "Name: 194, dtype: float64\n",
      "[1.5658803] BOD    2.6\n",
      "Name: 384, dtype: float64\n",
      "[8.803719] BOD    9.7\n",
      "Name: 288, dtype: float64\n",
      "[3.4368317] BOD    2.9\n",
      "Name: 110, dtype: float64\n",
      "[7.4496975] BOD    1.9\n",
      "Name: 525, dtype: float64\n",
      "[2.1196575] BOD    4.8\n",
      "Name: 319, dtype: float64\n",
      "[3.7689273] BOD    5.4\n",
      "Name: 324, dtype: float64\n",
      "[279.8644] BOD    2.0\n",
      "Name: 259, dtype: float64\n",
      "[2.732631] BOD    3.3\n",
      "Name: 454, dtype: float64\n",
      "[3.3459008] BOD    3.0\n",
      "Name: 243, dtype: float64\n",
      "[3.0239682] BOD    11.1\n",
      "Name: 352, dtype: float64\n",
      "[3.3983932] BOD    2.9\n",
      "Name: 349, dtype: float64\n",
      "[3.3328693] BOD    4.0\n",
      "Name: 446, dtype: float64\n",
      "[0.01973197] BOD    0.3\n",
      "Name: 173, dtype: float64\n",
      "[2.0932333] BOD    2.3\n",
      "Name: 370, dtype: float64\n",
      "[3.2051885] BOD    2.5\n",
      "Name: 64, dtype: float64\n",
      "[2.9234111] BOD    3.4\n",
      "Name: 244, dtype: float64\n",
      "[4.768554] BOD    3.4\n",
      "Name: 427, dtype: float64\n",
      "[7.5212555] BOD    10.7\n",
      "Name: 403, dtype: float64\n",
      "[3.8196363] BOD    3.0\n",
      "Name: 222, dtype: float64\n",
      "[5.424057] BOD    5.2\n",
      "Name: 201, dtype: float64\n",
      "[11.079575] BOD    10.5\n",
      "Name: 417, dtype: float64\n",
      "[2.7724593] BOD    2.3\n",
      "Name: 66, dtype: float64\n",
      "[4.455892] BOD    0.7\n",
      "Name: 465, dtype: float64\n",
      "[2.2896817] BOD    2.7\n",
      "Name: 70, dtype: float64\n",
      "[1.0000992] BOD    6.4\n",
      "Name: 231, dtype: float64\n",
      "[4.287081] BOD    1.8\n",
      "Name: 117, dtype: float64\n",
      "[2.6295822] BOD    0.8\n",
      "Name: 423, dtype: float64\n",
      "[2.5565917] BOD    2.2\n",
      "Name: 81, dtype: float64\n",
      "[2.7407534] BOD    3.1\n",
      "Name: 505, dtype: float64\n",
      "[5.6825438] BOD    10.3\n",
      "Name: 6, dtype: float64\n",
      "[3.3621023] BOD    1.5\n",
      "Name: 437, dtype: float64\n",
      "[2.8668182] BOD    2.6\n",
      "Name: 123, dtype: float64\n",
      "[1.9065522] BOD    2.0\n",
      "Name: 260, dtype: float64\n",
      "[11.466188] BOD    7.4\n",
      "Name: 323, dtype: float64\n",
      "[0.] BOD    0.2\n",
      "Name: 171, dtype: float64\n",
      "[15.751] BOD    19.3\n",
      "Name: 296, dtype: float64\n",
      "[3.8481457] BOD    3.8\n",
      "Name: 7, dtype: float64\n",
      "[2.5212665] BOD    1.4\n",
      "Name: 153, dtype: float64\n",
      "[4.348403] BOD    5.2\n",
      "Name: 8, dtype: float64\n",
      "[2.3574746] BOD    4.2\n",
      "Name: 456, dtype: float64\n",
      "[2.76944] BOD    3.3\n",
      "Name: 457, dtype: float64\n",
      "[5.7707515] BOD    4.7\n",
      "Name: 392, dtype: float64\n",
      "[4.3743186] BOD    1.1\n",
      "Name: 308, dtype: float64\n",
      "[3.3596866] BOD    5.1\n",
      "Name: 234, dtype: float64\n",
      "[0.53730637] BOD    2.0\n",
      "Name: 210, dtype: float64\n",
      "[39.739243] BOD    1.0\n",
      "Name: 455, dtype: float64\n",
      "[2.2659178] BOD    2.6\n",
      "Name: 59, dtype: float64\n",
      "[4.362154] BOD    2.2\n",
      "Name: 150, dtype: float64\n",
      "[0.] BOD    1.4\n",
      "Name: 387, dtype: float64\n",
      "[6.2426043] BOD    11.2\n",
      "Name: 435, dtype: float64\n",
      "[5.8686004] BOD    30.0\n",
      "Name: 263, dtype: float64\n",
      "[2.2059407] BOD    2.8\n",
      "Name: 69, dtype: float64\n",
      "[11.895338] BOD    1.2\n",
      "Name: 529, dtype: float64\n",
      "[9.389465] BOD    13.0\n",
      "Name: 488, dtype: float64\n",
      "[3.1623232] BOD    1.5\n",
      "Name: 436, dtype: float64\n",
      "[6.603097] BOD    3.2\n",
      "Name: 519, dtype: float64\n",
      "[0.8969905] BOD    2.1\n",
      "Name: 253, dtype: float64\n",
      "[0.67839605] BOD    3.1\n",
      "Name: 321, dtype: float64\n",
      "[2.6933815] BOD    2.7\n",
      "Name: 65, dtype: float64\n",
      "[8.102141] BOD    7.7\n",
      "Name: 317, dtype: float64\n",
      "[6.607186] BOD    1.5\n",
      "Name: 524, dtype: float64\n",
      "[15.564515] BOD    5.5\n",
      "Name: 482, dtype: float64\n",
      "[2.3426626] BOD    29.5\n",
      "Name: 481, dtype: float64\n",
      "[2.058563] BOD    1.9\n",
      "Name: 448, dtype: float64\n",
      "[4.843441] BOD    0.8\n",
      "Name: 208, dtype: float64\n",
      "[1.0434989] BOD    1.7\n",
      "Name: 216, dtype: float64\n",
      "[5.959759] BOD    3.9\n",
      "Name: 62, dtype: float64\n",
      "[2.3526347] BOD    2.4\n",
      "Name: 84, dtype: float64\n",
      "[1.4835701] BOD    0.3\n",
      "Name: 26, dtype: float64\n",
      "[4.5074806] BOD    1.0\n",
      "Name: 522, dtype: float64\n",
      "[4.233134] BOD    3.2\n",
      "Name: 4, dtype: float64\n",
      "[3.2157855] BOD    5.0\n",
      "Name: 342, dtype: float64\n",
      "[5.7017393] BOD    13.7\n",
      "Name: 353, dtype: float64\n",
      "[5.03755] BOD    2.0\n",
      "Name: 269, dtype: float64\n"
     ]
    },
    {
     "ename": "IndexError",
     "evalue": "index 149 is out of bounds for axis 0 with size 149",
     "output_type": "error",
     "traceback": [
      "\u001b[1;31m---------------------------------------------------------------------------\u001b[0m",
      "\u001b[1;31mIndexError\u001b[0m                                Traceback (most recent call last)",
      "\u001b[1;32m~\\AppData\\Local\\Temp/ipykernel_4300/3281872399.py\u001b[0m in \u001b[0;36m<module>\u001b[1;34m\u001b[0m\n\u001b[0;32m      1\u001b[0m \u001b[1;32mfor\u001b[0m \u001b[0mi\u001b[0m \u001b[1;32min\u001b[0m \u001b[0mrange\u001b[0m\u001b[1;33m(\u001b[0m\u001b[1;36m150\u001b[0m\u001b[1;33m)\u001b[0m\u001b[1;33m:\u001b[0m\u001b[1;33m\u001b[0m\u001b[1;33m\u001b[0m\u001b[0m\n\u001b[1;32m----> 2\u001b[1;33m     \u001b[0mprint\u001b[0m\u001b[1;33m(\u001b[0m\u001b[0mpredictions_poly\u001b[0m\u001b[1;33m[\u001b[0m\u001b[0mi\u001b[0m\u001b[1;33m]\u001b[0m\u001b[1;33m,\u001b[0m \u001b[0my_test\u001b[0m\u001b[1;33m.\u001b[0m\u001b[0miloc\u001b[0m\u001b[1;33m[\u001b[0m\u001b[0mi\u001b[0m\u001b[1;33m]\u001b[0m\u001b[1;33m)\u001b[0m\u001b[1;33m\u001b[0m\u001b[1;33m\u001b[0m\u001b[0m\n\u001b[0m",
      "\u001b[1;31mIndexError\u001b[0m: index 149 is out of bounds for axis 0 with size 149"
     ]
    }
   ],
   "source": [
    "for i in range(150):\n",
    "    print(predictions_poly[i], y_test.iloc[i])"
   ]
  },
  {
   "cell_type": "code",
   "execution_count": 159,
   "id": "48e9c2f0",
   "metadata": {},
   "outputs": [
    {
     "data": {
      "image/png": "[encoded data removed]",
      "text/plain": [
       "<Figure size 432x288 with 1 Axes>"
      ]
     },
     "metadata": {
      "needs_background": "light"
     },
     "output_type": "display_data"
    }
   ],
   "source": [
    "fig, ax = plt.subplots()\n",
    "ax.scatter(y_test, predictions_poly)\n",
    "ax.plot([y_test.min(), y_test.max()], [y_test.min(), y_test.max()], 'k--', lw=4)\n",
    "ax.set_xlabel('Measured')\n",
    "ax.set_ylabel('Predicted')\n",
    "plt.show()"
   ]
  },
  {
   "cell_type": "code",
   "execution_count": 160,
   "id": "1719cda3",
   "metadata": {},
   "outputs": [
    {
     "data": {
      "image/png": "[encoded data removed]",
      "text/plain": [
       "<Figure size 432x288 with 1 Axes>"
      ]
     },
     "metadata": {
      "needs_background": "light"
     },
     "output_type": "display_data"
    }
   ],
   "source": [
    "def plotGraph(y_test,y_pred,regressorName):\n",
    "    \n",
    "    plt.scatter(range(len(y_test)), y_test, color='blue', label = 'Actual')\n",
    "    plt.scatter(range(len(y_pred)), y_pred, color='red', label = 'Predicted')\n",
    "    plt.title(regressorName)\n",
    "    fig.legend(labels = ('Actual','Predicted'),loc='upper left')\n",
    "    plt.show()\n",
    "    return\n",
    "\n",
    "\n",
    "plotGraph(y_test, predictions_poly, \"test\")"
   ]
  },
  {
   "cell_type": "code",
   "execution_count": null,
   "id": "283f2645",
   "metadata": {},
   "outputs": [],
   "source": []
  }
 ],
 "metadata": {
  "kernelspec": {
   "display_name": "Python 3 (ipykernel)",
   "language": "python",
   "name": "python3"
  },
  "language_info": {
   "codemirror_mode": {
    "name": "ipython",
    "version": 3
   },
   "file_extension": ".py",
   "mimetype": "text/x-python",
   "name": "python",
   "nbconvert_exporter": "python",
   "pygments_lexer": "ipython3",
   "version": "3.10.1"
  }
 },
 "nbformat": 4,
 "nbformat_minor": 5
}
